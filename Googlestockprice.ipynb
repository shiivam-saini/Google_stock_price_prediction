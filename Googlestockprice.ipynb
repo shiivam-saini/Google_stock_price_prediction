{
  "nbformat": 4,
  "nbformat_minor": 0,
  "metadata": {
    "colab": {
      "provenance": [],
      "authorship_tag": "ABX9TyNzZC7NFSu8m2K3nJfdQnLS",
      "include_colab_link": true
    },
    "kernelspec": {
      "name": "python3",
      "display_name": "Python 3"
    },
    "language_info": {
      "name": "python"
    }
  },
  "cells": [
    {
      "cell_type": "markdown",
      "metadata": {
        "id": "view-in-github",
        "colab_type": "text"
      },
      "source": [
        "<a href=\"https://colab.research.google.com/github/shiivam-saini/Google_stock_price_prediction/blob/main/Googlestockprice.ipynb\" target=\"_parent\"><img src=\"https://colab.research.google.com/assets/colab-badge.svg\" alt=\"Open In Colab\"/></a>"
      ]
    },
    {
      "cell_type": "code",
      "execution_count": 1,
      "metadata": {
        "id": "HmEWoBX7iqNB"
      },
      "outputs": [],
      "source": [
        "import tensorflow as tf\n",
        "import numpy as np\n",
        "import pandas as pd\n",
        "import matplotlib.pyplot as plt"
      ]
    },
    {
      "cell_type": "code",
      "source": [
        "import os\n",
        "os.environ[\"KAGGLE_USERNAME\"]=\"shiivamsaini\"\n",
        "os.environ[\"KAGGLE_KEY\"]=\"ce3bf1e7c806d81ca8756ca8e8ad0d06\""
      ],
      "metadata": {
        "id": "GmN1o0CrjK05"
      },
      "execution_count": 2,
      "outputs": []
    },
    {
      "cell_type": "code",
      "source": [
        "from google.colab import files\n",
        "uploaded=files.upload()"
      ],
      "metadata": {
        "colab": {
          "base_uri": "https://localhost:8080/",
          "height": 73
        },
        "id": "DglqoxccmGY1",
        "outputId": "86961672-d7eb-447a-8f2b-30ab5ba7e737"
      },
      "execution_count": 4,
      "outputs": [
        {
          "output_type": "display_data",
          "data": {
            "text/plain": [
              "<IPython.core.display.HTML object>"
            ],
            "text/html": [
              "\n",
              "     <input type=\"file\" id=\"files-95a2a2ae-12d7-44b7-a5cb-884bd0f505b8\" name=\"files[]\" multiple disabled\n",
              "        style=\"border:none\" />\n",
              "     <output id=\"result-95a2a2ae-12d7-44b7-a5cb-884bd0f505b8\">\n",
              "      Upload widget is only available when the cell has been executed in the\n",
              "      current browser session. Please rerun this cell to enable.\n",
              "      </output>\n",
              "      <script>// Copyright 2017 Google LLC\n",
              "//\n",
              "// Licensed under the Apache License, Version 2.0 (the \"License\");\n",
              "// you may not use this file except in compliance with the License.\n",
              "// You may obtain a copy of the License at\n",
              "//\n",
              "//      http://www.apache.org/licenses/LICENSE-2.0\n",
              "//\n",
              "// Unless required by applicable law or agreed to in writing, software\n",
              "// distributed under the License is distributed on an \"AS IS\" BASIS,\n",
              "// WITHOUT WARRANTIES OR CONDITIONS OF ANY KIND, either express or implied.\n",
              "// See the License for the specific language governing permissions and\n",
              "// limitations under the License.\n",
              "\n",
              "/**\n",
              " * @fileoverview Helpers for google.colab Python module.\n",
              " */\n",
              "(function(scope) {\n",
              "function span(text, styleAttributes = {}) {\n",
              "  const element = document.createElement('span');\n",
              "  element.textContent = text;\n",
              "  for (const key of Object.keys(styleAttributes)) {\n",
              "    element.style[key] = styleAttributes[key];\n",
              "  }\n",
              "  return element;\n",
              "}\n",
              "\n",
              "// Max number of bytes which will be uploaded at a time.\n",
              "const MAX_PAYLOAD_SIZE = 100 * 1024;\n",
              "\n",
              "function _uploadFiles(inputId, outputId) {\n",
              "  const steps = uploadFilesStep(inputId, outputId);\n",
              "  const outputElement = document.getElementById(outputId);\n",
              "  // Cache steps on the outputElement to make it available for the next call\n",
              "  // to uploadFilesContinue from Python.\n",
              "  outputElement.steps = steps;\n",
              "\n",
              "  return _uploadFilesContinue(outputId);\n",
              "}\n",
              "\n",
              "// This is roughly an async generator (not supported in the browser yet),\n",
              "// where there are multiple asynchronous steps and the Python side is going\n",
              "// to poll for completion of each step.\n",
              "// This uses a Promise to block the python side on completion of each step,\n",
              "// then passes the result of the previous step as the input to the next step.\n",
              "function _uploadFilesContinue(outputId) {\n",
              "  const outputElement = document.getElementById(outputId);\n",
              "  const steps = outputElement.steps;\n",
              "\n",
              "  const next = steps.next(outputElement.lastPromiseValue);\n",
              "  return Promise.resolve(next.value.promise).then((value) => {\n",
              "    // Cache the last promise value to make it available to the next\n",
              "    // step of the generator.\n",
              "    outputElement.lastPromiseValue = value;\n",
              "    return next.value.response;\n",
              "  });\n",
              "}\n",
              "\n",
              "/**\n",
              " * Generator function which is called between each async step of the upload\n",
              " * process.\n",
              " * @param {string} inputId Element ID of the input file picker element.\n",
              " * @param {string} outputId Element ID of the output display.\n",
              " * @return {!Iterable<!Object>} Iterable of next steps.\n",
              " */\n",
              "function* uploadFilesStep(inputId, outputId) {\n",
              "  const inputElement = document.getElementById(inputId);\n",
              "  inputElement.disabled = false;\n",
              "\n",
              "  const outputElement = document.getElementById(outputId);\n",
              "  outputElement.innerHTML = '';\n",
              "\n",
              "  const pickedPromise = new Promise((resolve) => {\n",
              "    inputElement.addEventListener('change', (e) => {\n",
              "      resolve(e.target.files);\n",
              "    });\n",
              "  });\n",
              "\n",
              "  const cancel = document.createElement('button');\n",
              "  inputElement.parentElement.appendChild(cancel);\n",
              "  cancel.textContent = 'Cancel upload';\n",
              "  const cancelPromise = new Promise((resolve) => {\n",
              "    cancel.onclick = () => {\n",
              "      resolve(null);\n",
              "    };\n",
              "  });\n",
              "\n",
              "  // Wait for the user to pick the files.\n",
              "  const files = yield {\n",
              "    promise: Promise.race([pickedPromise, cancelPromise]),\n",
              "    response: {\n",
              "      action: 'starting',\n",
              "    }\n",
              "  };\n",
              "\n",
              "  cancel.remove();\n",
              "\n",
              "  // Disable the input element since further picks are not allowed.\n",
              "  inputElement.disabled = true;\n",
              "\n",
              "  if (!files) {\n",
              "    return {\n",
              "      response: {\n",
              "        action: 'complete',\n",
              "      }\n",
              "    };\n",
              "  }\n",
              "\n",
              "  for (const file of files) {\n",
              "    const li = document.createElement('li');\n",
              "    li.append(span(file.name, {fontWeight: 'bold'}));\n",
              "    li.append(span(\n",
              "        `(${file.type || 'n/a'}) - ${file.size} bytes, ` +\n",
              "        `last modified: ${\n",
              "            file.lastModifiedDate ? file.lastModifiedDate.toLocaleDateString() :\n",
              "                                    'n/a'} - `));\n",
              "    const percent = span('0% done');\n",
              "    li.appendChild(percent);\n",
              "\n",
              "    outputElement.appendChild(li);\n",
              "\n",
              "    const fileDataPromise = new Promise((resolve) => {\n",
              "      const reader = new FileReader();\n",
              "      reader.onload = (e) => {\n",
              "        resolve(e.target.result);\n",
              "      };\n",
              "      reader.readAsArrayBuffer(file);\n",
              "    });\n",
              "    // Wait for the data to be ready.\n",
              "    let fileData = yield {\n",
              "      promise: fileDataPromise,\n",
              "      response: {\n",
              "        action: 'continue',\n",
              "      }\n",
              "    };\n",
              "\n",
              "    // Use a chunked sending to avoid message size limits. See b/62115660.\n",
              "    let position = 0;\n",
              "    do {\n",
              "      const length = Math.min(fileData.byteLength - position, MAX_PAYLOAD_SIZE);\n",
              "      const chunk = new Uint8Array(fileData, position, length);\n",
              "      position += length;\n",
              "\n",
              "      const base64 = btoa(String.fromCharCode.apply(null, chunk));\n",
              "      yield {\n",
              "        response: {\n",
              "          action: 'append',\n",
              "          file: file.name,\n",
              "          data: base64,\n",
              "        },\n",
              "      };\n",
              "\n",
              "      let percentDone = fileData.byteLength === 0 ?\n",
              "          100 :\n",
              "          Math.round((position / fileData.byteLength) * 100);\n",
              "      percent.textContent = `${percentDone}% done`;\n",
              "\n",
              "    } while (position < fileData.byteLength);\n",
              "  }\n",
              "\n",
              "  // All done.\n",
              "  yield {\n",
              "    response: {\n",
              "      action: 'complete',\n",
              "    }\n",
              "  };\n",
              "}\n",
              "\n",
              "scope.google = scope.google || {};\n",
              "scope.google.colab = scope.google.colab || {};\n",
              "scope.google.colab._files = {\n",
              "  _uploadFiles,\n",
              "  _uploadFilesContinue,\n",
              "};\n",
              "})(self);\n",
              "</script> "
            ]
          },
          "metadata": {}
        },
        {
          "output_type": "stream",
          "name": "stdout",
          "text": [
            "Saving training.csv to training (1).csv\n"
          ]
        }
      ]
    },
    {
      "cell_type": "code",
      "source": [
        "train_data=pd.read_csv(\"/content/training.csv\")"
      ],
      "metadata": {
        "id": "QpvqlhTsrszZ"
      },
      "execution_count": 5,
      "outputs": []
    },
    {
      "cell_type": "code",
      "source": [
        "train_data.head()"
      ],
      "metadata": {
        "colab": {
          "base_uri": "https://localhost:8080/",
          "height": 206
        },
        "id": "bRTzl9SXr_Pl",
        "outputId": "afef3e8c-2a2a-4c0c-c359-5758f386c7a8"
      },
      "execution_count": 6,
      "outputs": [
        {
          "output_type": "execute_result",
          "data": {
            "text/plain": [
              "         Date       Open       High        Low      Close  Adj Close    Volume\n",
              "0  2016-02-16  34.648998  34.900002  34.252499  34.549999  34.549999  50400000\n",
              "1  2016-02-17  34.904499  35.487499  34.569000  35.419998  35.419998  49852000\n",
              "2  2016-02-18  35.500000  35.617500  34.801498  34.867500  34.867500  37664000\n",
              "3  2016-02-19  34.751499  35.154049  34.702499  35.045502  35.045502  31786000\n",
              "4  2016-02-22  35.372501  35.661999  35.125500  35.323002  35.323002  38996000"
            ],
            "text/html": [
              "\n",
              "  <div id=\"df-c7379b0d-6cb6-40a1-9f9c-dbba5919e0a3\" class=\"colab-df-container\">\n",
              "    <div>\n",
              "<style scoped>\n",
              "    .dataframe tbody tr th:only-of-type {\n",
              "        vertical-align: middle;\n",
              "    }\n",
              "\n",
              "    .dataframe tbody tr th {\n",
              "        vertical-align: top;\n",
              "    }\n",
              "\n",
              "    .dataframe thead th {\n",
              "        text-align: right;\n",
              "    }\n",
              "</style>\n",
              "<table border=\"1\" class=\"dataframe\">\n",
              "  <thead>\n",
              "    <tr style=\"text-align: right;\">\n",
              "      <th></th>\n",
              "      <th>Date</th>\n",
              "      <th>Open</th>\n",
              "      <th>High</th>\n",
              "      <th>Low</th>\n",
              "      <th>Close</th>\n",
              "      <th>Adj Close</th>\n",
              "      <th>Volume</th>\n",
              "    </tr>\n",
              "  </thead>\n",
              "  <tbody>\n",
              "    <tr>\n",
              "      <th>0</th>\n",
              "      <td>2016-02-16</td>\n",
              "      <td>34.648998</td>\n",
              "      <td>34.900002</td>\n",
              "      <td>34.252499</td>\n",
              "      <td>34.549999</td>\n",
              "      <td>34.549999</td>\n",
              "      <td>50400000</td>\n",
              "    </tr>\n",
              "    <tr>\n",
              "      <th>1</th>\n",
              "      <td>2016-02-17</td>\n",
              "      <td>34.904499</td>\n",
              "      <td>35.487499</td>\n",
              "      <td>34.569000</td>\n",
              "      <td>35.419998</td>\n",
              "      <td>35.419998</td>\n",
              "      <td>49852000</td>\n",
              "    </tr>\n",
              "    <tr>\n",
              "      <th>2</th>\n",
              "      <td>2016-02-18</td>\n",
              "      <td>35.500000</td>\n",
              "      <td>35.617500</td>\n",
              "      <td>34.801498</td>\n",
              "      <td>34.867500</td>\n",
              "      <td>34.867500</td>\n",
              "      <td>37664000</td>\n",
              "    </tr>\n",
              "    <tr>\n",
              "      <th>3</th>\n",
              "      <td>2016-02-19</td>\n",
              "      <td>34.751499</td>\n",
              "      <td>35.154049</td>\n",
              "      <td>34.702499</td>\n",
              "      <td>35.045502</td>\n",
              "      <td>35.045502</td>\n",
              "      <td>31786000</td>\n",
              "    </tr>\n",
              "    <tr>\n",
              "      <th>4</th>\n",
              "      <td>2016-02-22</td>\n",
              "      <td>35.372501</td>\n",
              "      <td>35.661999</td>\n",
              "      <td>35.125500</td>\n",
              "      <td>35.323002</td>\n",
              "      <td>35.323002</td>\n",
              "      <td>38996000</td>\n",
              "    </tr>\n",
              "  </tbody>\n",
              "</table>\n",
              "</div>\n",
              "    <div class=\"colab-df-buttons\">\n",
              "\n",
              "  <div class=\"colab-df-container\">\n",
              "    <button class=\"colab-df-convert\" onclick=\"convertToInteractive('df-c7379b0d-6cb6-40a1-9f9c-dbba5919e0a3')\"\n",
              "            title=\"Convert this dataframe to an interactive table.\"\n",
              "            style=\"display:none;\">\n",
              "\n",
              "  <svg xmlns=\"http://www.w3.org/2000/svg\" height=\"24px\" viewBox=\"0 -960 960 960\">\n",
              "    <path d=\"M120-120v-720h720v720H120Zm60-500h600v-160H180v160Zm220 220h160v-160H400v160Zm0 220h160v-160H400v160ZM180-400h160v-160H180v160Zm440 0h160v-160H620v160ZM180-180h160v-160H180v160Zm440 0h160v-160H620v160Z\"/>\n",
              "  </svg>\n",
              "    </button>\n",
              "\n",
              "  <style>\n",
              "    .colab-df-container {\n",
              "      display:flex;\n",
              "      gap: 12px;\n",
              "    }\n",
              "\n",
              "    .colab-df-convert {\n",
              "      background-color: #E8F0FE;\n",
              "      border: none;\n",
              "      border-radius: 50%;\n",
              "      cursor: pointer;\n",
              "      display: none;\n",
              "      fill: #1967D2;\n",
              "      height: 32px;\n",
              "      padding: 0 0 0 0;\n",
              "      width: 32px;\n",
              "    }\n",
              "\n",
              "    .colab-df-convert:hover {\n",
              "      background-color: #E2EBFA;\n",
              "      box-shadow: 0px 1px 2px rgba(60, 64, 67, 0.3), 0px 1px 3px 1px rgba(60, 64, 67, 0.15);\n",
              "      fill: #174EA6;\n",
              "    }\n",
              "\n",
              "    .colab-df-buttons div {\n",
              "      margin-bottom: 4px;\n",
              "    }\n",
              "\n",
              "    [theme=dark] .colab-df-convert {\n",
              "      background-color: #3B4455;\n",
              "      fill: #D2E3FC;\n",
              "    }\n",
              "\n",
              "    [theme=dark] .colab-df-convert:hover {\n",
              "      background-color: #434B5C;\n",
              "      box-shadow: 0px 1px 3px 1px rgba(0, 0, 0, 0.15);\n",
              "      filter: drop-shadow(0px 1px 2px rgba(0, 0, 0, 0.3));\n",
              "      fill: #FFFFFF;\n",
              "    }\n",
              "  </style>\n",
              "\n",
              "    <script>\n",
              "      const buttonEl =\n",
              "        document.querySelector('#df-c7379b0d-6cb6-40a1-9f9c-dbba5919e0a3 button.colab-df-convert');\n",
              "      buttonEl.style.display =\n",
              "        google.colab.kernel.accessAllowed ? 'block' : 'none';\n",
              "\n",
              "      async function convertToInteractive(key) {\n",
              "        const element = document.querySelector('#df-c7379b0d-6cb6-40a1-9f9c-dbba5919e0a3');\n",
              "        const dataTable =\n",
              "          await google.colab.kernel.invokeFunction('convertToInteractive',\n",
              "                                                    [key], {});\n",
              "        if (!dataTable) return;\n",
              "\n",
              "        const docLinkHtml = 'Like what you see? Visit the ' +\n",
              "          '<a target=\"_blank\" href=https://colab.research.google.com/notebooks/data_table.ipynb>data table notebook</a>'\n",
              "          + ' to learn more about interactive tables.';\n",
              "        element.innerHTML = '';\n",
              "        dataTable['output_type'] = 'display_data';\n",
              "        await google.colab.output.renderOutput(dataTable, element);\n",
              "        const docLink = document.createElement('div');\n",
              "        docLink.innerHTML = docLinkHtml;\n",
              "        element.appendChild(docLink);\n",
              "      }\n",
              "    </script>\n",
              "  </div>\n",
              "\n",
              "\n",
              "<div id=\"df-3897c652-dd74-4b0a-849a-df0cfae03a19\">\n",
              "  <button class=\"colab-df-quickchart\" onclick=\"quickchart('df-3897c652-dd74-4b0a-849a-df0cfae03a19')\"\n",
              "            title=\"Suggest charts.\"\n",
              "            style=\"display:none;\">\n",
              "\n",
              "<svg xmlns=\"http://www.w3.org/2000/svg\" height=\"24px\"viewBox=\"0 0 24 24\"\n",
              "     width=\"24px\">\n",
              "    <g>\n",
              "        <path d=\"M19 3H5c-1.1 0-2 .9-2 2v14c0 1.1.9 2 2 2h14c1.1 0 2-.9 2-2V5c0-1.1-.9-2-2-2zM9 17H7v-7h2v7zm4 0h-2V7h2v10zm4 0h-2v-4h2v4z\"/>\n",
              "    </g>\n",
              "</svg>\n",
              "  </button>\n",
              "\n",
              "<style>\n",
              "  .colab-df-quickchart {\n",
              "      --bg-color: #E8F0FE;\n",
              "      --fill-color: #1967D2;\n",
              "      --hover-bg-color: #E2EBFA;\n",
              "      --hover-fill-color: #174EA6;\n",
              "      --disabled-fill-color: #AAA;\n",
              "      --disabled-bg-color: #DDD;\n",
              "  }\n",
              "\n",
              "  [theme=dark] .colab-df-quickchart {\n",
              "      --bg-color: #3B4455;\n",
              "      --fill-color: #D2E3FC;\n",
              "      --hover-bg-color: #434B5C;\n",
              "      --hover-fill-color: #FFFFFF;\n",
              "      --disabled-bg-color: #3B4455;\n",
              "      --disabled-fill-color: #666;\n",
              "  }\n",
              "\n",
              "  .colab-df-quickchart {\n",
              "    background-color: var(--bg-color);\n",
              "    border: none;\n",
              "    border-radius: 50%;\n",
              "    cursor: pointer;\n",
              "    display: none;\n",
              "    fill: var(--fill-color);\n",
              "    height: 32px;\n",
              "    padding: 0;\n",
              "    width: 32px;\n",
              "  }\n",
              "\n",
              "  .colab-df-quickchart:hover {\n",
              "    background-color: var(--hover-bg-color);\n",
              "    box-shadow: 0 1px 2px rgba(60, 64, 67, 0.3), 0 1px 3px 1px rgba(60, 64, 67, 0.15);\n",
              "    fill: var(--button-hover-fill-color);\n",
              "  }\n",
              "\n",
              "  .colab-df-quickchart-complete:disabled,\n",
              "  .colab-df-quickchart-complete:disabled:hover {\n",
              "    background-color: var(--disabled-bg-color);\n",
              "    fill: var(--disabled-fill-color);\n",
              "    box-shadow: none;\n",
              "  }\n",
              "\n",
              "  .colab-df-spinner {\n",
              "    border: 2px solid var(--fill-color);\n",
              "    border-color: transparent;\n",
              "    border-bottom-color: var(--fill-color);\n",
              "    animation:\n",
              "      spin 1s steps(1) infinite;\n",
              "  }\n",
              "\n",
              "  @keyframes spin {\n",
              "    0% {\n",
              "      border-color: transparent;\n",
              "      border-bottom-color: var(--fill-color);\n",
              "      border-left-color: var(--fill-color);\n",
              "    }\n",
              "    20% {\n",
              "      border-color: transparent;\n",
              "      border-left-color: var(--fill-color);\n",
              "      border-top-color: var(--fill-color);\n",
              "    }\n",
              "    30% {\n",
              "      border-color: transparent;\n",
              "      border-left-color: var(--fill-color);\n",
              "      border-top-color: var(--fill-color);\n",
              "      border-right-color: var(--fill-color);\n",
              "    }\n",
              "    40% {\n",
              "      border-color: transparent;\n",
              "      border-right-color: var(--fill-color);\n",
              "      border-top-color: var(--fill-color);\n",
              "    }\n",
              "    60% {\n",
              "      border-color: transparent;\n",
              "      border-right-color: var(--fill-color);\n",
              "    }\n",
              "    80% {\n",
              "      border-color: transparent;\n",
              "      border-right-color: var(--fill-color);\n",
              "      border-bottom-color: var(--fill-color);\n",
              "    }\n",
              "    90% {\n",
              "      border-color: transparent;\n",
              "      border-bottom-color: var(--fill-color);\n",
              "    }\n",
              "  }\n",
              "</style>\n",
              "\n",
              "  <script>\n",
              "    async function quickchart(key) {\n",
              "      const quickchartButtonEl =\n",
              "        document.querySelector('#' + key + ' button');\n",
              "      quickchartButtonEl.disabled = true;  // To prevent multiple clicks.\n",
              "      quickchartButtonEl.classList.add('colab-df-spinner');\n",
              "      try {\n",
              "        const charts = await google.colab.kernel.invokeFunction(\n",
              "            'suggestCharts', [key], {});\n",
              "      } catch (error) {\n",
              "        console.error('Error during call to suggestCharts:', error);\n",
              "      }\n",
              "      quickchartButtonEl.classList.remove('colab-df-spinner');\n",
              "      quickchartButtonEl.classList.add('colab-df-quickchart-complete');\n",
              "    }\n",
              "    (() => {\n",
              "      let quickchartButtonEl =\n",
              "        document.querySelector('#df-3897c652-dd74-4b0a-849a-df0cfae03a19 button');\n",
              "      quickchartButtonEl.style.display =\n",
              "        google.colab.kernel.accessAllowed ? 'block' : 'none';\n",
              "    })();\n",
              "  </script>\n",
              "</div>\n",
              "    </div>\n",
              "  </div>\n"
            ]
          },
          "metadata": {},
          "execution_count": 6
        }
      ]
    },
    {
      "cell_type": "code",
      "source": [
        "train_data.tail()"
      ],
      "metadata": {
        "colab": {
          "base_uri": "https://localhost:8080/",
          "height": 206
        },
        "id": "YpGi7vK1sHVf",
        "outputId": "b9afb56a-2fcf-446c-dff3-fd3c50005b05"
      },
      "execution_count": 7,
      "outputs": [
        {
          "output_type": "execute_result",
          "data": {
            "text/plain": [
              "            Date        Open        High         Low       Close   Adj Close  \\\n",
              "1315  2021-05-06  117.531998  119.135498  117.116898  119.067497  119.067497   \n",
              "1316  2021-05-07  120.000000  120.820503  119.500000  119.934502  119.934502   \n",
              "1317  2021-05-10  118.744499  118.900002  116.736504  117.083000  117.083000   \n",
              "1318  2021-05-11  114.593002  116.099998  114.150002  115.438004  115.438004   \n",
              "1319  2021-05-12  113.085503  114.268501  111.502502  111.954002  111.954002   \n",
              "\n",
              "        Volume  \n",
              "1315  20618000  \n",
              "1316  23272000  \n",
              "1317  26006000  \n",
              "1318  32110000  \n",
              "1319  34934000  "
            ],
            "text/html": [
              "\n",
              "  <div id=\"df-c58648cb-305e-458b-8b35-d95a2e46d2ba\" class=\"colab-df-container\">\n",
              "    <div>\n",
              "<style scoped>\n",
              "    .dataframe tbody tr th:only-of-type {\n",
              "        vertical-align: middle;\n",
              "    }\n",
              "\n",
              "    .dataframe tbody tr th {\n",
              "        vertical-align: top;\n",
              "    }\n",
              "\n",
              "    .dataframe thead th {\n",
              "        text-align: right;\n",
              "    }\n",
              "</style>\n",
              "<table border=\"1\" class=\"dataframe\">\n",
              "  <thead>\n",
              "    <tr style=\"text-align: right;\">\n",
              "      <th></th>\n",
              "      <th>Date</th>\n",
              "      <th>Open</th>\n",
              "      <th>High</th>\n",
              "      <th>Low</th>\n",
              "      <th>Close</th>\n",
              "      <th>Adj Close</th>\n",
              "      <th>Volume</th>\n",
              "    </tr>\n",
              "  </thead>\n",
              "  <tbody>\n",
              "    <tr>\n",
              "      <th>1315</th>\n",
              "      <td>2021-05-06</td>\n",
              "      <td>117.531998</td>\n",
              "      <td>119.135498</td>\n",
              "      <td>117.116898</td>\n",
              "      <td>119.067497</td>\n",
              "      <td>119.067497</td>\n",
              "      <td>20618000</td>\n",
              "    </tr>\n",
              "    <tr>\n",
              "      <th>1316</th>\n",
              "      <td>2021-05-07</td>\n",
              "      <td>120.000000</td>\n",
              "      <td>120.820503</td>\n",
              "      <td>119.500000</td>\n",
              "      <td>119.934502</td>\n",
              "      <td>119.934502</td>\n",
              "      <td>23272000</td>\n",
              "    </tr>\n",
              "    <tr>\n",
              "      <th>1317</th>\n",
              "      <td>2021-05-10</td>\n",
              "      <td>118.744499</td>\n",
              "      <td>118.900002</td>\n",
              "      <td>116.736504</td>\n",
              "      <td>117.083000</td>\n",
              "      <td>117.083000</td>\n",
              "      <td>26006000</td>\n",
              "    </tr>\n",
              "    <tr>\n",
              "      <th>1318</th>\n",
              "      <td>2021-05-11</td>\n",
              "      <td>114.593002</td>\n",
              "      <td>116.099998</td>\n",
              "      <td>114.150002</td>\n",
              "      <td>115.438004</td>\n",
              "      <td>115.438004</td>\n",
              "      <td>32110000</td>\n",
              "    </tr>\n",
              "    <tr>\n",
              "      <th>1319</th>\n",
              "      <td>2021-05-12</td>\n",
              "      <td>113.085503</td>\n",
              "      <td>114.268501</td>\n",
              "      <td>111.502502</td>\n",
              "      <td>111.954002</td>\n",
              "      <td>111.954002</td>\n",
              "      <td>34934000</td>\n",
              "    </tr>\n",
              "  </tbody>\n",
              "</table>\n",
              "</div>\n",
              "    <div class=\"colab-df-buttons\">\n",
              "\n",
              "  <div class=\"colab-df-container\">\n",
              "    <button class=\"colab-df-convert\" onclick=\"convertToInteractive('df-c58648cb-305e-458b-8b35-d95a2e46d2ba')\"\n",
              "            title=\"Convert this dataframe to an interactive table.\"\n",
              "            style=\"display:none;\">\n",
              "\n",
              "  <svg xmlns=\"http://www.w3.org/2000/svg\" height=\"24px\" viewBox=\"0 -960 960 960\">\n",
              "    <path d=\"M120-120v-720h720v720H120Zm60-500h600v-160H180v160Zm220 220h160v-160H400v160Zm0 220h160v-160H400v160ZM180-400h160v-160H180v160Zm440 0h160v-160H620v160ZM180-180h160v-160H180v160Zm440 0h160v-160H620v160Z\"/>\n",
              "  </svg>\n",
              "    </button>\n",
              "\n",
              "  <style>\n",
              "    .colab-df-container {\n",
              "      display:flex;\n",
              "      gap: 12px;\n",
              "    }\n",
              "\n",
              "    .colab-df-convert {\n",
              "      background-color: #E8F0FE;\n",
              "      border: none;\n",
              "      border-radius: 50%;\n",
              "      cursor: pointer;\n",
              "      display: none;\n",
              "      fill: #1967D2;\n",
              "      height: 32px;\n",
              "      padding: 0 0 0 0;\n",
              "      width: 32px;\n",
              "    }\n",
              "\n",
              "    .colab-df-convert:hover {\n",
              "      background-color: #E2EBFA;\n",
              "      box-shadow: 0px 1px 2px rgba(60, 64, 67, 0.3), 0px 1px 3px 1px rgba(60, 64, 67, 0.15);\n",
              "      fill: #174EA6;\n",
              "    }\n",
              "\n",
              "    .colab-df-buttons div {\n",
              "      margin-bottom: 4px;\n",
              "    }\n",
              "\n",
              "    [theme=dark] .colab-df-convert {\n",
              "      background-color: #3B4455;\n",
              "      fill: #D2E3FC;\n",
              "    }\n",
              "\n",
              "    [theme=dark] .colab-df-convert:hover {\n",
              "      background-color: #434B5C;\n",
              "      box-shadow: 0px 1px 3px 1px rgba(0, 0, 0, 0.15);\n",
              "      filter: drop-shadow(0px 1px 2px rgba(0, 0, 0, 0.3));\n",
              "      fill: #FFFFFF;\n",
              "    }\n",
              "  </style>\n",
              "\n",
              "    <script>\n",
              "      const buttonEl =\n",
              "        document.querySelector('#df-c58648cb-305e-458b-8b35-d95a2e46d2ba button.colab-df-convert');\n",
              "      buttonEl.style.display =\n",
              "        google.colab.kernel.accessAllowed ? 'block' : 'none';\n",
              "\n",
              "      async function convertToInteractive(key) {\n",
              "        const element = document.querySelector('#df-c58648cb-305e-458b-8b35-d95a2e46d2ba');\n",
              "        const dataTable =\n",
              "          await google.colab.kernel.invokeFunction('convertToInteractive',\n",
              "                                                    [key], {});\n",
              "        if (!dataTable) return;\n",
              "\n",
              "        const docLinkHtml = 'Like what you see? Visit the ' +\n",
              "          '<a target=\"_blank\" href=https://colab.research.google.com/notebooks/data_table.ipynb>data table notebook</a>'\n",
              "          + ' to learn more about interactive tables.';\n",
              "        element.innerHTML = '';\n",
              "        dataTable['output_type'] = 'display_data';\n",
              "        await google.colab.output.renderOutput(dataTable, element);\n",
              "        const docLink = document.createElement('div');\n",
              "        docLink.innerHTML = docLinkHtml;\n",
              "        element.appendChild(docLink);\n",
              "      }\n",
              "    </script>\n",
              "  </div>\n",
              "\n",
              "\n",
              "<div id=\"df-e1e45f4d-a0af-41a4-b5c3-1fe21f285910\">\n",
              "  <button class=\"colab-df-quickchart\" onclick=\"quickchart('df-e1e45f4d-a0af-41a4-b5c3-1fe21f285910')\"\n",
              "            title=\"Suggest charts.\"\n",
              "            style=\"display:none;\">\n",
              "\n",
              "<svg xmlns=\"http://www.w3.org/2000/svg\" height=\"24px\"viewBox=\"0 0 24 24\"\n",
              "     width=\"24px\">\n",
              "    <g>\n",
              "        <path d=\"M19 3H5c-1.1 0-2 .9-2 2v14c0 1.1.9 2 2 2h14c1.1 0 2-.9 2-2V5c0-1.1-.9-2-2-2zM9 17H7v-7h2v7zm4 0h-2V7h2v10zm4 0h-2v-4h2v4z\"/>\n",
              "    </g>\n",
              "</svg>\n",
              "  </button>\n",
              "\n",
              "<style>\n",
              "  .colab-df-quickchart {\n",
              "      --bg-color: #E8F0FE;\n",
              "      --fill-color: #1967D2;\n",
              "      --hover-bg-color: #E2EBFA;\n",
              "      --hover-fill-color: #174EA6;\n",
              "      --disabled-fill-color: #AAA;\n",
              "      --disabled-bg-color: #DDD;\n",
              "  }\n",
              "\n",
              "  [theme=dark] .colab-df-quickchart {\n",
              "      --bg-color: #3B4455;\n",
              "      --fill-color: #D2E3FC;\n",
              "      --hover-bg-color: #434B5C;\n",
              "      --hover-fill-color: #FFFFFF;\n",
              "      --disabled-bg-color: #3B4455;\n",
              "      --disabled-fill-color: #666;\n",
              "  }\n",
              "\n",
              "  .colab-df-quickchart {\n",
              "    background-color: var(--bg-color);\n",
              "    border: none;\n",
              "    border-radius: 50%;\n",
              "    cursor: pointer;\n",
              "    display: none;\n",
              "    fill: var(--fill-color);\n",
              "    height: 32px;\n",
              "    padding: 0;\n",
              "    width: 32px;\n",
              "  }\n",
              "\n",
              "  .colab-df-quickchart:hover {\n",
              "    background-color: var(--hover-bg-color);\n",
              "    box-shadow: 0 1px 2px rgba(60, 64, 67, 0.3), 0 1px 3px 1px rgba(60, 64, 67, 0.15);\n",
              "    fill: var(--button-hover-fill-color);\n",
              "  }\n",
              "\n",
              "  .colab-df-quickchart-complete:disabled,\n",
              "  .colab-df-quickchart-complete:disabled:hover {\n",
              "    background-color: var(--disabled-bg-color);\n",
              "    fill: var(--disabled-fill-color);\n",
              "    box-shadow: none;\n",
              "  }\n",
              "\n",
              "  .colab-df-spinner {\n",
              "    border: 2px solid var(--fill-color);\n",
              "    border-color: transparent;\n",
              "    border-bottom-color: var(--fill-color);\n",
              "    animation:\n",
              "      spin 1s steps(1) infinite;\n",
              "  }\n",
              "\n",
              "  @keyframes spin {\n",
              "    0% {\n",
              "      border-color: transparent;\n",
              "      border-bottom-color: var(--fill-color);\n",
              "      border-left-color: var(--fill-color);\n",
              "    }\n",
              "    20% {\n",
              "      border-color: transparent;\n",
              "      border-left-color: var(--fill-color);\n",
              "      border-top-color: var(--fill-color);\n",
              "    }\n",
              "    30% {\n",
              "      border-color: transparent;\n",
              "      border-left-color: var(--fill-color);\n",
              "      border-top-color: var(--fill-color);\n",
              "      border-right-color: var(--fill-color);\n",
              "    }\n",
              "    40% {\n",
              "      border-color: transparent;\n",
              "      border-right-color: var(--fill-color);\n",
              "      border-top-color: var(--fill-color);\n",
              "    }\n",
              "    60% {\n",
              "      border-color: transparent;\n",
              "      border-right-color: var(--fill-color);\n",
              "    }\n",
              "    80% {\n",
              "      border-color: transparent;\n",
              "      border-right-color: var(--fill-color);\n",
              "      border-bottom-color: var(--fill-color);\n",
              "    }\n",
              "    90% {\n",
              "      border-color: transparent;\n",
              "      border-bottom-color: var(--fill-color);\n",
              "    }\n",
              "  }\n",
              "</style>\n",
              "\n",
              "  <script>\n",
              "    async function quickchart(key) {\n",
              "      const quickchartButtonEl =\n",
              "        document.querySelector('#' + key + ' button');\n",
              "      quickchartButtonEl.disabled = true;  // To prevent multiple clicks.\n",
              "      quickchartButtonEl.classList.add('colab-df-spinner');\n",
              "      try {\n",
              "        const charts = await google.colab.kernel.invokeFunction(\n",
              "            'suggestCharts', [key], {});\n",
              "      } catch (error) {\n",
              "        console.error('Error during call to suggestCharts:', error);\n",
              "      }\n",
              "      quickchartButtonEl.classList.remove('colab-df-spinner');\n",
              "      quickchartButtonEl.classList.add('colab-df-quickchart-complete');\n",
              "    }\n",
              "    (() => {\n",
              "      let quickchartButtonEl =\n",
              "        document.querySelector('#df-e1e45f4d-a0af-41a4-b5c3-1fe21f285910 button');\n",
              "      quickchartButtonEl.style.display =\n",
              "        google.colab.kernel.accessAllowed ? 'block' : 'none';\n",
              "    })();\n",
              "  </script>\n",
              "</div>\n",
              "    </div>\n",
              "  </div>\n"
            ]
          },
          "metadata": {},
          "execution_count": 7
        }
      ]
    },
    {
      "cell_type": "code",
      "source": [
        "train_data.info()"
      ],
      "metadata": {
        "colab": {
          "base_uri": "https://localhost:8080/"
        },
        "id": "-DHUZYXd0lSo",
        "outputId": "97a441e4-3fd7-43de-e376-c275b78c7a54"
      },
      "execution_count": 8,
      "outputs": [
        {
          "output_type": "stream",
          "name": "stdout",
          "text": [
            "<class 'pandas.core.frame.DataFrame'>\n",
            "RangeIndex: 1320 entries, 0 to 1319\n",
            "Data columns (total 7 columns):\n",
            " #   Column     Non-Null Count  Dtype  \n",
            "---  ------     --------------  -----  \n",
            " 0   Date       1320 non-null   object \n",
            " 1   Open       1320 non-null   float64\n",
            " 2   High       1320 non-null   float64\n",
            " 3   Low        1320 non-null   float64\n",
            " 4   Close      1320 non-null   float64\n",
            " 5   Adj Close  1320 non-null   float64\n",
            " 6   Volume     1320 non-null   int64  \n",
            "dtypes: float64(5), int64(1), object(1)\n",
            "memory usage: 72.3+ KB\n"
          ]
        }
      ]
    },
    {
      "cell_type": "code",
      "source": [
        "train_set=train_data.iloc[:,1:2].values"
      ],
      "metadata": {
        "id": "M_WfbDHK0szo"
      },
      "execution_count": 9,
      "outputs": []
    },
    {
      "cell_type": "code",
      "source": [
        "train_set.shape"
      ],
      "metadata": {
        "colab": {
          "base_uri": "https://localhost:8080/"
        },
        "id": "eS8b6ldk2KZ4",
        "outputId": "af29a51d-f3b4-42a7-d289-d4b4a9006e07"
      },
      "execution_count": 10,
      "outputs": [
        {
          "output_type": "execute_result",
          "data": {
            "text/plain": [
              "(1320, 1)"
            ]
          },
          "metadata": {},
          "execution_count": 10
        }
      ]
    },
    {
      "cell_type": "code",
      "source": [
        "#feature scaling to normalise the data\n",
        "from sklearn.preprocessing import MinMaxScaler\n",
        "ms=MinMaxScaler(feature_range=(0,1))\n",
        "train_scaled=ms.fit_transform(train_set)"
      ],
      "metadata": {
        "id": "50ti58312Rbg"
      },
      "execution_count": 11,
      "outputs": []
    },
    {
      "cell_type": "code",
      "source": [
        "train_scaled"
      ],
      "metadata": {
        "colab": {
          "base_uri": "https://localhost:8080/"
        },
        "id": "LRyJdxIC9Pcn",
        "outputId": "35ce64ed-7bee-4e86-e61c-74ec3b1328b5"
      },
      "execution_count": 12,
      "outputs": [
        {
          "output_type": "execute_result",
          "data": {
            "text/plain": [
              "array([[0.01263704],\n",
              "       [0.01557496],\n",
              "       [0.02242244],\n",
              "       ...,\n",
              "       [0.9796243 ],\n",
              "       [0.93188757],\n",
              "       [0.91455332]])"
            ]
          },
          "metadata": {},
          "execution_count": 12
        }
      ]
    },
    {
      "cell_type": "code",
      "source": [
        "#creating a data structure with 60 timestamps and 1 output\n",
        "x_train=[]\n",
        "y_train=[]\n",
        "for i in range(60,1320):\n",
        "  x_train.append(train_scaled[i-60:i,0])\n",
        "  y_train.append(train_scaled[i,0])\n",
        "\n",
        "x_train,y_train=np.array(x_train),np.array(y_train)\n",
        "\n"
      ],
      "metadata": {
        "id": "0AATYRW89SwN"
      },
      "execution_count": 13,
      "outputs": []
    },
    {
      "cell_type": "code",
      "source": [
        "x_train"
      ],
      "metadata": {
        "colab": {
          "base_uri": "https://localhost:8080/"
        },
        "id": "RaFDAkEKuuBX",
        "outputId": "712e6adb-6bd2-4674-fa7f-ee77deb8999d"
      },
      "execution_count": 14,
      "outputs": [
        {
          "output_type": "execute_result",
          "data": {
            "text/plain": [
              "array([[0.01263704, 0.01557496, 0.02242244, ..., 0.01574169, 0.02357228,\n",
              "        0.02630327],\n",
              "       [0.01557496, 0.02242244, 0.01381566, ..., 0.02357228, 0.02630327,\n",
              "        0.03013233],\n",
              "       [0.02242244, 0.01381566, 0.02095637, ..., 0.02630327, 0.03013233,\n",
              "        0.02648148],\n",
              "       ...,\n",
              "       [0.82129901, 0.81597507, 0.82408744, ..., 0.97590447, 0.96568214,\n",
              "        0.99406091],\n",
              "       [0.81597507, 0.82408744, 0.82158071, ..., 0.96568214, 0.99406091,\n",
              "        0.9796243 ],\n",
              "       [0.82408744, 0.82158071, 0.82755428, ..., 0.99406091, 0.9796243 ,\n",
              "        0.93188757]])"
            ]
          },
          "metadata": {},
          "execution_count": 14
        }
      ]
    },
    {
      "cell_type": "code",
      "source": [
        "x_train.shape"
      ],
      "metadata": {
        "colab": {
          "base_uri": "https://localhost:8080/"
        },
        "id": "sOAzwgAcvmuk",
        "outputId": "6d698a9e-7960-42be-9d66-88a0e75c44ef"
      },
      "execution_count": 15,
      "outputs": [
        {
          "output_type": "execute_result",
          "data": {
            "text/plain": [
              "(1260, 60)"
            ]
          },
          "metadata": {},
          "execution_count": 15
        }
      ]
    },
    {
      "cell_type": "code",
      "source": [
        "x_train=x_train.reshape(1260,60,1)"
      ],
      "metadata": {
        "id": "nM-ymFxtvs8D"
      },
      "execution_count": 16,
      "outputs": []
    },
    {
      "cell_type": "code",
      "source": [
        "x_train.shape"
      ],
      "metadata": {
        "colab": {
          "base_uri": "https://localhost:8080/"
        },
        "id": "bmv7C5BEwSA4",
        "outputId": "b7670b9c-ad6c-49b1-b0b3-9612ec6a0c43"
      },
      "execution_count": 17,
      "outputs": [
        {
          "output_type": "execute_result",
          "data": {
            "text/plain": [
              "(1260, 60, 1)"
            ]
          },
          "metadata": {},
          "execution_count": 17
        }
      ]
    },
    {
      "cell_type": "code",
      "source": [
        "#Initializing RNN\n",
        "model=tf.keras.models.Sequential()\n",
        "model.add(tf.keras.layers.LSTM(units=60,activation='relu',return_sequences=True,input_shape=(60,1)))\n",
        "model.add(tf.keras.layers.Dropout(0.2))\n",
        "\n",
        "model.add(tf.keras.layers.LSTM(units=60,activation='relu',return_sequences=True))\n",
        "model.add(tf.keras.layers.Dropout(0.2))\n",
        "\n",
        "model.add(tf.keras.layers.LSTM(units=80,activation='relu',return_sequences=True))\n",
        "model.add(tf.keras.layers.Dropout(0.2))\n",
        "\n",
        "model.add(tf.keras.layers.LSTM(units=120,activation='relu'))\n",
        "model.add(tf.keras.layers.Dropout(0.2))\n",
        "\n"
      ],
      "metadata": {
        "id": "OJ5HPkrZw2kT"
      },
      "execution_count": 18,
      "outputs": []
    },
    {
      "cell_type": "code",
      "source": [
        "#output Layer\n",
        "model.add(tf.keras.layers.Dense(units=1))\n"
      ],
      "metadata": {
        "id": "Yofd8nmMxu7K"
      },
      "execution_count": 19,
      "outputs": []
    },
    {
      "cell_type": "code",
      "source": [
        "model.summary()"
      ],
      "metadata": {
        "colab": {
          "base_uri": "https://localhost:8080/"
        },
        "id": "jd0nbRct0v8D",
        "outputId": "83f6c034-cfa8-418e-9821-36b18a6c1a7f"
      },
      "execution_count": 20,
      "outputs": [
        {
          "output_type": "stream",
          "name": "stdout",
          "text": [
            "Model: \"sequential\"\n",
            "_________________________________________________________________\n",
            " Layer (type)                Output Shape              Param #   \n",
            "=================================================================\n",
            " lstm (LSTM)                 (None, 60, 60)            14880     \n",
            "                                                                 \n",
            " dropout (Dropout)           (None, 60, 60)            0         \n",
            "                                                                 \n",
            " lstm_1 (LSTM)               (None, 60, 60)            29040     \n",
            "                                                                 \n",
            " dropout_1 (Dropout)         (None, 60, 60)            0         \n",
            "                                                                 \n",
            " lstm_2 (LSTM)               (None, 60, 80)            45120     \n",
            "                                                                 \n",
            " dropout_2 (Dropout)         (None, 60, 80)            0         \n",
            "                                                                 \n",
            " lstm_3 (LSTM)               (None, 120)               96480     \n",
            "                                                                 \n",
            " dropout_3 (Dropout)         (None, 120)               0         \n",
            "                                                                 \n",
            " dense (Dense)               (None, 1)                 121       \n",
            "                                                                 \n",
            "=================================================================\n",
            "Total params: 185,641\n",
            "Trainable params: 185,641\n",
            "Non-trainable params: 0\n",
            "_________________________________________________________________\n"
          ]
        }
      ]
    },
    {
      "cell_type": "code",
      "source": [
        "#loss function\n",
        "model.compile(optimizer='adam',loss='mean_squared_error')"
      ],
      "metadata": {
        "id": "yAgqrb_c04g1"
      },
      "execution_count": 21,
      "outputs": []
    },
    {
      "cell_type": "code",
      "source": [
        "model.fit(x_train,y_train,batch_size=32,epochs=100)"
      ],
      "metadata": {
        "colab": {
          "base_uri": "https://localhost:8080/"
        },
        "id": "qcF7YL-n1mbU",
        "outputId": "b341f0ef-7b09-4f36-84b6-abcf4856d42e"
      },
      "execution_count": 22,
      "outputs": [
        {
          "output_type": "stream",
          "name": "stdout",
          "text": [
            "Epoch 1/100\n",
            "40/40 [==============================] - 13s 171ms/step - loss: 0.0304\n",
            "Epoch 2/100\n",
            "40/40 [==============================] - 8s 203ms/step - loss: 0.0036\n",
            "Epoch 3/100\n",
            "40/40 [==============================] - 7s 171ms/step - loss: 0.0027\n",
            "Epoch 4/100\n",
            "40/40 [==============================] - 8s 204ms/step - loss: 0.0033\n",
            "Epoch 5/100\n",
            "40/40 [==============================] - 8s 204ms/step - loss: 0.0024\n",
            "Epoch 6/100\n",
            "40/40 [==============================] - 7s 172ms/step - loss: 0.0025\n",
            "Epoch 7/100\n",
            "40/40 [==============================] - 8s 204ms/step - loss: 0.0033\n",
            "Epoch 8/100\n",
            "40/40 [==============================] - 7s 173ms/step - loss: 0.0022\n",
            "Epoch 9/100\n",
            "40/40 [==============================] - 8s 202ms/step - loss: 0.0025\n",
            "Epoch 10/100\n",
            "40/40 [==============================] - 8s 203ms/step - loss: 0.0021\n",
            "Epoch 11/100\n",
            "40/40 [==============================] - 7s 172ms/step - loss: 0.0023\n",
            "Epoch 12/100\n",
            "40/40 [==============================] - 8s 205ms/step - loss: 0.0020\n",
            "Epoch 13/100\n",
            "40/40 [==============================] - 7s 173ms/step - loss: 0.0019\n",
            "Epoch 14/100\n",
            "40/40 [==============================] - 8s 204ms/step - loss: 0.0021\n",
            "Epoch 15/100\n",
            "40/40 [==============================] - 8s 202ms/step - loss: 0.0027\n",
            "Epoch 16/100\n",
            "40/40 [==============================] - 7s 174ms/step - loss: 0.0025\n",
            "Epoch 17/100\n",
            "40/40 [==============================] - 8s 203ms/step - loss: 0.0019\n",
            "Epoch 18/100\n",
            "40/40 [==============================] - 7s 180ms/step - loss: 0.0019\n",
            "Epoch 19/100\n",
            "40/40 [==============================] - 8s 197ms/step - loss: 0.0021\n",
            "Epoch 20/100\n",
            "40/40 [==============================] - 8s 204ms/step - loss: 0.0017\n",
            "Epoch 21/100\n",
            "40/40 [==============================] - 7s 172ms/step - loss: 0.0019\n",
            "Epoch 22/100\n",
            "40/40 [==============================] - 8s 205ms/step - loss: 0.0016\n",
            "Epoch 23/100\n",
            "40/40 [==============================] - 7s 182ms/step - loss: 0.0015\n",
            "Epoch 24/100\n",
            "40/40 [==============================] - 8s 191ms/step - loss: 0.0017\n",
            "Epoch 25/100\n",
            "40/40 [==============================] - 8s 203ms/step - loss: 0.0018\n",
            "Epoch 26/100\n",
            "40/40 [==============================] - 7s 173ms/step - loss: 0.0016\n",
            "Epoch 27/100\n",
            "40/40 [==============================] - 8s 203ms/step - loss: 0.0014\n",
            "Epoch 28/100\n",
            "40/40 [==============================] - 7s 181ms/step - loss: 0.0015\n",
            "Epoch 29/100\n",
            "40/40 [==============================] - 8s 194ms/step - loss: 0.0014\n",
            "Epoch 30/100\n",
            "40/40 [==============================] - 8s 204ms/step - loss: 0.0016\n",
            "Epoch 31/100\n",
            "40/40 [==============================] - 7s 173ms/step - loss: 0.0015\n",
            "Epoch 32/100\n",
            "40/40 [==============================] - 8s 204ms/step - loss: 0.0017\n",
            "Epoch 33/100\n",
            "40/40 [==============================] - 7s 188ms/step - loss: 0.0014\n",
            "Epoch 34/100\n",
            "40/40 [==============================] - 8s 188ms/step - loss: 0.0014\n",
            "Epoch 35/100\n",
            "40/40 [==============================] - 8s 204ms/step - loss: 0.0014\n",
            "Epoch 36/100\n",
            "40/40 [==============================] - 7s 173ms/step - loss: 0.0014\n",
            "Epoch 37/100\n",
            "40/40 [==============================] - 8s 206ms/step - loss: 0.0016\n",
            "Epoch 38/100\n",
            "40/40 [==============================] - 8s 192ms/step - loss: 0.0012\n",
            "Epoch 39/100\n",
            "40/40 [==============================] - 7s 180ms/step - loss: 0.0012\n",
            "Epoch 40/100\n",
            "40/40 [==============================] - 8s 204ms/step - loss: 0.0013\n",
            "Epoch 41/100\n",
            "40/40 [==============================] - 7s 175ms/step - loss: 0.0012\n",
            "Epoch 42/100\n",
            "40/40 [==============================] - 8s 204ms/step - loss: 0.0011\n",
            "Epoch 43/100\n",
            "40/40 [==============================] - 8s 198ms/step - loss: 0.0012\n",
            "Epoch 44/100\n",
            "40/40 [==============================] - 7s 179ms/step - loss: 0.0019\n",
            "Epoch 45/100\n",
            "40/40 [==============================] - 8s 206ms/step - loss: 0.0014\n",
            "Epoch 46/100\n",
            "40/40 [==============================] - 7s 174ms/step - loss: 0.0012\n",
            "Epoch 47/100\n",
            "40/40 [==============================] - 8s 206ms/step - loss: 9.1481e-04\n",
            "Epoch 48/100\n",
            "40/40 [==============================] - 8s 205ms/step - loss: 0.0011\n",
            "Epoch 49/100\n",
            "40/40 [==============================] - 7s 174ms/step - loss: 0.0011\n",
            "Epoch 50/100\n",
            "40/40 [==============================] - 8s 205ms/step - loss: 0.0011\n",
            "Epoch 51/100\n",
            "40/40 [==============================] - 7s 174ms/step - loss: 0.0013\n",
            "Epoch 52/100\n",
            "40/40 [==============================] - 8s 205ms/step - loss: 0.0015\n",
            "Epoch 53/100\n",
            "40/40 [==============================] - 8s 205ms/step - loss: 0.0012\n",
            "Epoch 54/100\n",
            "40/40 [==============================] - 7s 174ms/step - loss: 0.0012\n",
            "Epoch 55/100\n",
            "40/40 [==============================] - 8s 205ms/step - loss: 0.0012\n",
            "Epoch 56/100\n",
            "40/40 [==============================] - 7s 173ms/step - loss: 0.0011\n",
            "Epoch 57/100\n",
            "40/40 [==============================] - 8s 204ms/step - loss: 0.0011\n",
            "Epoch 58/100\n",
            "40/40 [==============================] - 8s 205ms/step - loss: 0.0011\n",
            "Epoch 59/100\n",
            "40/40 [==============================] - 7s 175ms/step - loss: 0.0011\n",
            "Epoch 60/100\n",
            "40/40 [==============================] - 8s 205ms/step - loss: 0.0011\n",
            "Epoch 61/100\n",
            "40/40 [==============================] - 7s 176ms/step - loss: 0.0011\n",
            "Epoch 62/100\n",
            "40/40 [==============================] - 8s 191ms/step - loss: 0.0013\n",
            "Epoch 63/100\n",
            "40/40 [==============================] - 8s 201ms/step - loss: 9.5112e-04\n",
            "Epoch 64/100\n",
            "40/40 [==============================] - 7s 171ms/step - loss: 0.0012\n",
            "Epoch 65/100\n",
            "40/40 [==============================] - 8s 203ms/step - loss: 0.0012\n",
            "Epoch 66/100\n",
            "40/40 [==============================] - 7s 179ms/step - loss: 0.0010\n",
            "Epoch 67/100\n",
            "40/40 [==============================] - 8s 197ms/step - loss: 0.0011\n",
            "Epoch 68/100\n",
            "40/40 [==============================] - 8s 203ms/step - loss: 0.0010\n",
            "Epoch 69/100\n",
            "40/40 [==============================] - 7s 174ms/step - loss: 0.0012\n",
            "Epoch 70/100\n",
            "40/40 [==============================] - 8s 203ms/step - loss: 0.0010\n",
            "Epoch 71/100\n",
            "40/40 [==============================] - 7s 178ms/step - loss: 0.0010\n",
            "Epoch 72/100\n",
            "40/40 [==============================] - 8s 194ms/step - loss: 0.0010\n",
            "Epoch 73/100\n",
            "40/40 [==============================] - 8s 204ms/step - loss: 9.2184e-04\n",
            "Epoch 74/100\n",
            "40/40 [==============================] - 7s 173ms/step - loss: 0.0012\n",
            "Epoch 75/100\n",
            "40/40 [==============================] - 8s 203ms/step - loss: 0.0010\n",
            "Epoch 76/100\n",
            "40/40 [==============================] - 7s 180ms/step - loss: 9.9942e-04\n",
            "Epoch 77/100\n",
            "40/40 [==============================] - 8s 198ms/step - loss: 9.7554e-04\n",
            "Epoch 78/100\n",
            "40/40 [==============================] - 8s 203ms/step - loss: 0.0011\n",
            "Epoch 79/100\n",
            "40/40 [==============================] - 7s 175ms/step - loss: 8.8150e-04\n",
            "Epoch 80/100\n",
            "40/40 [==============================] - 8s 205ms/step - loss: 0.0011\n",
            "Epoch 81/100\n",
            "40/40 [==============================] - 7s 187ms/step - loss: 0.0012\n",
            "Epoch 82/100\n",
            "40/40 [==============================] - 8s 186ms/step - loss: 0.0010\n",
            "Epoch 83/100\n",
            "40/40 [==============================] - 8s 204ms/step - loss: 9.6761e-04\n",
            "Epoch 84/100\n",
            "40/40 [==============================] - 7s 173ms/step - loss: 8.7506e-04\n",
            "Epoch 85/100\n",
            "40/40 [==============================] - 8s 206ms/step - loss: 9.1540e-04\n",
            "Epoch 86/100\n",
            "40/40 [==============================] - 8s 193ms/step - loss: 9.4324e-04\n",
            "Epoch 87/100\n",
            "40/40 [==============================] - 7s 185ms/step - loss: 0.0011\n",
            "Epoch 88/100\n",
            "40/40 [==============================] - 8s 205ms/step - loss: 9.5025e-04\n",
            "Epoch 89/100\n",
            "40/40 [==============================] - 7s 175ms/step - loss: 9.6824e-04\n",
            "Epoch 90/100\n",
            "40/40 [==============================] - 8s 203ms/step - loss: 9.0123e-04\n",
            "Epoch 91/100\n",
            "40/40 [==============================] - 8s 196ms/step - loss: 9.5874e-04\n",
            "Epoch 92/100\n",
            "40/40 [==============================] - 7s 178ms/step - loss: 9.0629e-04\n",
            "Epoch 93/100\n",
            "40/40 [==============================] - 8s 204ms/step - loss: 8.6028e-04\n",
            "Epoch 94/100\n",
            "40/40 [==============================] - 7s 175ms/step - loss: 9.3759e-04\n",
            "Epoch 95/100\n",
            "40/40 [==============================] - 8s 204ms/step - loss: 9.9502e-04\n",
            "Epoch 96/100\n",
            "40/40 [==============================] - 8s 198ms/step - loss: 8.6151e-04\n",
            "Epoch 97/100\n",
            "40/40 [==============================] - 7s 172ms/step - loss: 0.0010\n",
            "Epoch 98/100\n",
            "40/40 [==============================] - 8s 204ms/step - loss: 8.8609e-04\n",
            "Epoch 99/100\n",
            "40/40 [==============================] - 7s 175ms/step - loss: 8.0146e-04\n",
            "Epoch 100/100\n",
            "40/40 [==============================] - 8s 206ms/step - loss: 8.5761e-04\n"
          ]
        },
        {
          "output_type": "execute_result",
          "data": {
            "text/plain": [
              "<keras.callbacks.History at 0x7d360649a380>"
            ]
          },
          "metadata": {},
          "execution_count": 22
        }
      ]
    },
    {
      "cell_type": "code",
      "source": [
        "test_data=pd.read_csv('/content/test_set.csv')"
      ],
      "metadata": {
        "id": "PBESEY3kmHAm"
      },
      "execution_count": null,
      "outputs": []
    },
    {
      "cell_type": "code",
      "source": [
        "test_data.shape"
      ],
      "metadata": {
        "colab": {
          "base_uri": "https://localhost:8080/"
        },
        "id": "Er0fQPiKm-sk",
        "outputId": "f12f3274-0b70-41e4-81ad-60037b0f6ebd"
      },
      "execution_count": null,
      "outputs": [
        {
          "output_type": "execute_result",
          "data": {
            "text/plain": [
              "(504, 7)"
            ]
          },
          "metadata": {},
          "execution_count": 25
        }
      ]
    },
    {
      "cell_type": "code",
      "source": [
        "real_stock_price=test_data.iloc[:,1:2].values"
      ],
      "metadata": {
        "id": "lIMgrctKnHMF"
      },
      "execution_count": null,
      "outputs": []
    },
    {
      "cell_type": "code",
      "source": [
        "real_stock_price.shape"
      ],
      "metadata": {
        "colab": {
          "base_uri": "https://localhost:8080/"
        },
        "id": "eNYLkr4qnRCR",
        "outputId": "99e9c7c7-6611-45ba-a79c-b49968fe7c1e"
      },
      "execution_count": null,
      "outputs": [
        {
          "output_type": "execute_result",
          "data": {
            "text/plain": [
              "(504, 1)"
            ]
          },
          "metadata": {},
          "execution_count": 29
        }
      ]
    },
    {
      "cell_type": "code",
      "source": [
        "#getting predicted stock prices\n",
        "dataset_total=pd.concat((train_data['Open'],test_data['Open']),axis=0)\n",
        "\n",
        "#stock prices of previous 60 days\n",
        "inputs=dataset_total[len(dataset_total)-len(test_data)-60:].values\n",
        "\n",
        "inputs=inputs.reshape(-1,1)\n",
        "\n",
        "inputs=ms.transform(inputs)\n",
        "\n",
        "#Creating a Testset\n",
        "x_test=[]\n",
        "for i in range(60,564):\n",
        "  x_test.append(inputs[i-60:i,0])\n",
        "\n",
        "x_test=np.array(x_test)\n",
        "x_test=np.reshape(x_test,(x_test.shape[0],x_test.shape[1],1))\n",
        "\n",
        "pred_stock_price=model.predict(x_test)\n",
        "pred_stock_price=ms.inverse_transform(pred_stock_price)\n",
        "\n",
        "\n",
        "\n"
      ],
      "metadata": {
        "colab": {
          "base_uri": "https://localhost:8080/"
        },
        "id": "1CV13cvUneys",
        "outputId": "1c619152-12d0-4605-ce29-e05faeab8b98"
      },
      "execution_count": null,
      "outputs": [
        {
          "output_type": "stream",
          "name": "stdout",
          "text": [
            "16/16 [==============================] - 1s 56ms/step\n"
          ]
        }
      ]
    },
    {
      "cell_type": "code",
      "source": [
        "print(pred_stock_price[6]),print(real_stock_price[6])"
      ],
      "metadata": {
        "colab": {
          "base_uri": "https://localhost:8080/"
        },
        "id": "mk-P4_atrVZk",
        "outputId": "a1f33403-2566-44e3-c503-1f9492b1ce7a"
      },
      "execution_count": null,
      "outputs": [
        {
          "output_type": "stream",
          "name": "stdout",
          "text": [
            "[114.697395]\n",
            "[116.402]\n"
          ]
        },
        {
          "output_type": "execute_result",
          "data": {
            "text/plain": [
              "(None, None)"
            ]
          },
          "metadata": {},
          "execution_count": 39
        }
      ]
    },
    {
      "cell_type": "code",
      "source": [
        "plt.plot(real_stock_price,color='red',label='Real price')\n",
        "plt.plot(pred_stock_price,color='blue',label='Predicted Price')\n",
        "plt.xlabel('Time')\n",
        "plt.ylabel('Google Stock Price')\n",
        "plt.legend()\n",
        "plt.show()"
      ],
      "metadata": {
        "colab": {
          "base_uri": "https://localhost:8080/",
          "height": 449
        },
        "id": "X7YL2k2ltoiX",
        "outputId": "3afb75ed-d70c-4c0c-c066-0f6ee5c7c410"
      },
      "execution_count": null,
      "outputs": [
        {
          "output_type": "display_data",
          "data": {
            "text/plain": [
              "<Figure size 640x480 with 1 Axes>"
            ],
            "image/png": "[encoded data removed]"
          },
          "metadata": {}
        }
      ]
    },
    {
      "cell_type": "code",
      "source": [],
      "metadata": {
        "id": "ihm7JTPdwcJN"
      },
      "execution_count": null,
      "outputs": []
    }
  ]
}